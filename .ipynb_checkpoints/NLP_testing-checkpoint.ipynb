{
 "cells": [
  {
   "cell_type": "code",
   "execution_count": 1,
   "id": "a7d27aa3",
   "metadata": {},
   "outputs": [],
   "source": [
    "# !jt -t monokai -f fira -fs 10 -nf ptsans -nfs 11 -N -kl -cursw 2 -cursc r -cellw 80% -T"
   ]
  },
  {
   "cell_type": "markdown",
   "id": "9368426e",
   "metadata": {},
   "source": [
    "# Testing spacy and textoblob"
   ]
  },
  {
   "cell_type": "code",
   "execution_count": 25,
   "id": "71683fbd",
   "metadata": {},
   "outputs": [],
   "source": [
    "from textblob import TextBlob, Word"
   ]
  },
  {
   "cell_type": "code",
   "execution_count": 6,
   "id": "399c214b",
   "metadata": {},
   "outputs": [],
   "source": [
    "import spacy"
   ]
  },
  {
   "cell_type": "code",
   "execution_count": 14,
   "id": "c1158c1b",
   "metadata": {},
   "outputs": [],
   "source": [
    "nlp = spacy.load(\"pl_core_news_sm\")"
   ]
  },
  {
   "cell_type": "code",
   "execution_count": 9,
   "id": "410f563d",
   "metadata": {},
   "outputs": [],
   "source": [
    "doc = nlp(\"Jak tam u ciebie stary druhu, byłeś wczoraj w pracy?\")"
   ]
  },
  {
   "cell_type": "code",
   "execution_count": 10,
   "id": "6ef1868a",
   "metadata": {
    "collapsed": true
   },
   "outputs": [
    {
     "name": "stdout",
     "output_type": "stream",
     "text": [
      "Jak jak SCONJ ADV mark Xxx True True\n",
      "tam tam ADV ADV advmod xxx True True\n",
      "u u ADP PREP case x True True\n",
      "ciebie ty PRON PPRON12 obl:arg xxxx True True\n",
      "stary star NOUN ADJ nsubj xxxx True False\n",
      "druhu druhu ADJ SUBST advcl xxxx True False\n",
      ", , PUNCT INTERP punct , False False\n",
      "byłeś być VERB SUBST ROOT xxxx True False\n",
      "wczoraj wczoraj ADV ADV advmod xxxx True False\n",
      "w w ADP PREP case x True True\n",
      "pracy praca NOUN SUBST obl:arg xxxx True False\n",
      "? ? PUNCT INTERP punct ? False False\n"
     ]
    }
   ],
   "source": [
    "for token in doc:\n",
    "    print(token.text, token.lemma_, token.pos_, token.tag_, token.dep_,\n",
    "            token.shape_, token.is_alpha, token.is_stop)"
   ]
  },
  {
   "cell_type": "code",
   "execution_count": 21,
   "id": "37d7d3ad",
   "metadata": {},
   "outputs": [],
   "source": [
    "blob = TextBlob(\"Hey i've got many words to say to you!\")"
   ]
  },
  {
   "cell_type": "code",
   "execution_count": 23,
   "id": "1c51d1a5",
   "metadata": {},
   "outputs": [
    {
     "data": {
      "text/plain": [
       "[('Hey', 'NNP'),\n",
       " ('i', 'VBP'),\n",
       " (\"'ve\", 'VBP'),\n",
       " ('got', 'VBN'),\n",
       " ('many', 'JJ'),\n",
       " ('words', 'NNS'),\n",
       " ('to', 'TO'),\n",
       " ('say', 'VB'),\n",
       " ('to', 'TO'),\n",
       " ('you', 'PRP')]"
      ]
     },
     "execution_count": 23,
     "metadata": {},
     "output_type": "execute_result"
    }
   ],
   "source": [
    "blob.tags"
   ]
  },
  {
   "cell_type": "code",
   "execution_count": 29,
   "id": "25a18e1a",
   "metadata": {},
   "outputs": [],
   "source": [
    "lems = []\n",
    "for token in blob.tokens:\n",
    "    lems.append(Word(token).lemma)"
   ]
  },
  {
   "cell_type": "code",
   "execution_count": 30,
   "id": "4e37aa8a",
   "metadata": {},
   "outputs": [
    {
     "data": {
      "text/plain": [
       "['Hey', 'i', \"'ve\", 'got', 'many', 'word', 'to', 'say', 'to', 'you', '!']"
      ]
     },
     "execution_count": 30,
     "metadata": {},
     "output_type": "execute_result"
    }
   ],
   "source": [
    "lems"
   ]
  },
  {
   "cell_type": "markdown",
   "id": "5e27686b",
   "metadata": {},
   "source": [
    "# Transformer model"
   ]
  },
  {
   "cell_type": "code",
   "execution_count": 4,
   "id": "34cda8f2",
   "metadata": {
    "collapsed": true
   },
   "outputs": [
    {
     "name": "stdout",
     "output_type": "stream",
     "text": [
      "Requirement already satisfied: spacy-transformers in c:\\programy_sublime\\chatbot_project\\venv\\lib\\site-packages (1.0.5)\n",
      "Requirement already satisfied: spacy-alignments<1.0.0,>=0.7.2 in c:\\programy_sublime\\chatbot_project\\venv\\lib\\site-packages (from spacy-transformers) (0.8.3)\n",
      "Requirement already satisfied: spacy<4.0.0,>=3.1.0 in c:\\programy_sublime\\chatbot_project\\venv\\lib\\site-packages (from spacy-transformers) (3.1.2)\n",
      "Requirement already satisfied: torch>=1.5.0 in c:\\programy_sublime\\chatbot_project\\venv\\lib\\site-packages (from spacy-transformers) (1.9.0)\n",
      "Requirement already satisfied: srsly<3.0.0,>=2.4.0 in c:\\programy_sublime\\chatbot_project\\venv\\lib\\site-packages (from spacy-transformers) (2.4.1)\n",
      "Requirement already satisfied: transformers<4.10.0,>=3.4.0 in c:\\programy_sublime\\chatbot_project\\venv\\lib\\site-packages (from spacy-transformers) (4.9.2)\n",
      "Requirement already satisfied: cymem<2.1.0,>=2.0.2 in c:\\programy_sublime\\chatbot_project\\venv\\lib\\site-packages (from spacy<4.0.0,>=3.1.0->spacy-transformers) (2.0.5)\n",
      "Requirement already satisfied: spacy-legacy<3.1.0,>=3.0.7 in c:\\programy_sublime\\chatbot_project\\venv\\lib\\site-packages (from spacy<4.0.0,>=3.1.0->spacy-transformers) (3.0.8)\n",
      "Requirement already satisfied: blis<0.8.0,>=0.4.0 in c:\\programy_sublime\\chatbot_project\\venv\\lib\\site-packages (from spacy<4.0.0,>=3.1.0->spacy-transformers) (0.7.4)\n",
      "Requirement already satisfied: thinc<8.1.0,>=8.0.8 in c:\\programy_sublime\\chatbot_project\\venv\\lib\\site-packages (from spacy<4.0.0,>=3.1.0->spacy-transformers) (8.0.8)\n",
      "Requirement already satisfied: wasabi<1.1.0,>=0.8.1 in c:\\programy_sublime\\chatbot_project\\venv\\lib\\site-packages (from spacy<4.0.0,>=3.1.0->spacy-transformers) (0.8.2)\n",
      "Requirement already satisfied: preshed<3.1.0,>=3.0.2 in c:\\programy_sublime\\chatbot_project\\venv\\lib\\site-packages (from spacy<4.0.0,>=3.1.0->spacy-transformers) (3.0.5)\n",
      "Requirement already satisfied: typer<0.4.0,>=0.3.0 in c:\\programy_sublime\\chatbot_project\\venv\\lib\\site-packages (from spacy<4.0.0,>=3.1.0->spacy-transformers) (0.3.2)\n",
      "Requirement already satisfied: requests<3.0.0,>=2.13.0 in c:\\programy_sublime\\chatbot_project\\venv\\lib\\site-packages (from spacy<4.0.0,>=3.1.0->spacy-transformers) (2.26.0)\n",
      "Requirement already satisfied: catalogue<2.1.0,>=2.0.4 in c:\\programy_sublime\\chatbot_project\\venv\\lib\\site-packages (from spacy<4.0.0,>=3.1.0->spacy-transformers) (2.0.6)\n",
      "Requirement already satisfied: setuptools in c:\\programy_sublime\\chatbot_project\\venv\\lib\\site-packages (from spacy<4.0.0,>=3.1.0->spacy-transformers) (57.4.0)\n",
      "Requirement already satisfied: packaging>=20.0 in c:\\programy_sublime\\chatbot_project\\venv\\lib\\site-packages (from spacy<4.0.0,>=3.1.0->spacy-transformers) (21.0)\n",
      "Requirement already satisfied: pydantic!=1.8,!=1.8.1,<1.9.0,>=1.7.4 in c:\\programy_sublime\\chatbot_project\\venv\\lib\\site-packages (from spacy<4.0.0,>=3.1.0->spacy-transformers) (1.8.2)\n",
      "Requirement already satisfied: jinja2 in c:\\programy_sublime\\chatbot_project\\venv\\lib\\site-packages (from spacy<4.0.0,>=3.1.0->spacy-transformers) (3.0.1)\n",
      "Requirement already satisfied: murmurhash<1.1.0,>=0.28.0 in c:\\programy_sublime\\chatbot_project\\venv\\lib\\site-packages (from spacy<4.0.0,>=3.1.0->spacy-transformers) (1.0.5)\n",
      "Requirement already satisfied: numpy>=1.15.0 in c:\\programy_sublime\\chatbot_project\\venv\\lib\\site-packages (from spacy<4.0.0,>=3.1.0->spacy-transformers) (1.19.5)\n",
      "Requirement already satisfied: pathy>=0.3.5 in c:\\programy_sublime\\chatbot_project\\venv\\lib\\site-packages (from spacy<4.0.0,>=3.1.0->spacy-transformers) (0.6.0)\n",
      "Requirement already satisfied: tqdm<5.0.0,>=4.38.0 in c:\\programy_sublime\\chatbot_project\\venv\\lib\\site-packages (from spacy<4.0.0,>=3.1.0->spacy-transformers) (4.62.2)\n",
      "Requirement already satisfied: pyparsing>=2.0.2 in c:\\programy_sublime\\chatbot_project\\venv\\lib\\site-packages (from packaging>=20.0->spacy<4.0.0,>=3.1.0->spacy-transformers) (2.4.7)\n",
      "Requirement already satisfied: smart-open<6.0.0,>=5.0.0 in c:\\programy_sublime\\chatbot_project\\venv\\lib\\site-packages (from pathy>=0.3.5->spacy<4.0.0,>=3.1.0->spacy-transformers) (5.2.0)\n",
      "Requirement already satisfied: typing-extensions>=3.7.4.3 in c:\\programy_sublime\\chatbot_project\\venv\\lib\\site-packages (from pydantic!=1.8,!=1.8.1,<1.9.0,>=1.7.4->spacy<4.0.0,>=3.1.0->spacy-transformers) (3.7.4.3)\n",
      "Requirement already satisfied: urllib3<1.27,>=1.21.1 in c:\\programy_sublime\\chatbot_project\\venv\\lib\\site-packages (from requests<3.0.0,>=2.13.0->spacy<4.0.0,>=3.1.0->spacy-transformers) (1.26.6)\n",
      "Requirement already satisfied: certifi>=2017.4.17 in c:\\programy_sublime\\chatbot_project\\venv\\lib\\site-packages (from requests<3.0.0,>=2.13.0->spacy<4.0.0,>=3.1.0->spacy-transformers) (2021.5.30)\n",
      "Requirement already satisfied: charset-normalizer~=2.0.0 in c:\\programy_sublime\\chatbot_project\\venv\\lib\\site-packages (from requests<3.0.0,>=2.13.0->spacy<4.0.0,>=3.1.0->spacy-transformers) (2.0.4)\n",
      "Requirement already satisfied: idna<4,>=2.5 in c:\\programy_sublime\\chatbot_project\\venv\\lib\\site-packages (from requests<3.0.0,>=2.13.0->spacy<4.0.0,>=3.1.0->spacy-transformers) (3.2)\n",
      "Requirement already satisfied: colorama in c:\\programy_sublime\\chatbot_project\\venv\\lib\\site-packages (from tqdm<5.0.0,>=4.38.0->spacy<4.0.0,>=3.1.0->spacy-transformers) (0.4.4)\n",
      "Requirement already satisfied: filelock in c:\\programy_sublime\\chatbot_project\\venv\\lib\\site-packages (from transformers<4.10.0,>=3.4.0->spacy-transformers) (3.0.12)\n",
      "Requirement already satisfied: pyyaml>=5.1 in c:\\programy_sublime\\chatbot_project\\venv\\lib\\site-packages (from transformers<4.10.0,>=3.4.0->spacy-transformers) (5.4.1)\n",
      "Requirement already satisfied: tokenizers<0.11,>=0.10.1 in c:\\programy_sublime\\chatbot_project\\venv\\lib\\site-packages (from transformers<4.10.0,>=3.4.0->spacy-transformers) (0.10.3)\n",
      "Requirement already satisfied: sacremoses in c:\\programy_sublime\\chatbot_project\\venv\\lib\\site-packages (from transformers<4.10.0,>=3.4.0->spacy-transformers) (0.0.45)\n",
      "Requirement already satisfied: regex!=2019.12.17 in c:\\programy_sublime\\chatbot_project\\venv\\lib\\site-packages (from transformers<4.10.0,>=3.4.0->spacy-transformers) (2021.8.21)\n",
      "Requirement already satisfied: huggingface-hub==0.0.12 in c:\\programy_sublime\\chatbot_project\\venv\\lib\\site-packages (from transformers<4.10.0,>=3.4.0->spacy-transformers) (0.0.12)\n",
      "Requirement already satisfied: click<7.2.0,>=7.1.1 in c:\\programy_sublime\\chatbot_project\\venv\\lib\\site-packages (from typer<0.4.0,>=0.3.0->spacy<4.0.0,>=3.1.0->spacy-transformers) (7.1.2)\n",
      "Requirement already satisfied: MarkupSafe>=2.0 in c:\\programy_sublime\\chatbot_project\\venv\\lib\\site-packages (from jinja2->spacy<4.0.0,>=3.1.0->spacy-transformers) (2.0.1)\n",
      "Requirement already satisfied: joblib in c:\\programy_sublime\\chatbot_project\\venv\\lib\\site-packages (from sacremoses->transformers<4.10.0,>=3.4.0->spacy-transformers) (1.0.1)\n",
      "Requirement already satisfied: six in c:\\programy_sublime\\chatbot_project\\venv\\lib\\site-packages (from sacremoses->transformers<4.10.0,>=3.4.0->spacy-transformers) (1.15.0)\n",
      "\n",
      "[x] No compatible package found for 'en_trf_bertbaseuncased_lg' (spaCy v3.1.2)\n",
      "\n"
     ]
    }
   ],
   "source": [
    "!pip install spacy-transformers\n",
    "!python -m spacy download en_trf_bertbaseuncased_lg"
   ]
  },
  {
   "cell_type": "code",
   "execution_count": 20,
   "id": "424484f8",
   "metadata": {},
   "outputs": [],
   "source": [
    "import torch\n",
    "import spacy\n",
    "from sklearn import svm\n",
    "from sklearn.feature_extraction.text import CountVectorizer"
   ]
  },
  {
   "cell_type": "code",
   "execution_count": 21,
   "id": "f0c5dd91",
   "metadata": {},
   "outputs": [],
   "source": [
    "train_x = [\"Hello there\",\n",
    "           \"What's up\", \n",
    "           \"I like pancakes\", \n",
    "           \"Do you yant to cook comething\", \n",
    "           \"I need a pencil\",\n",
    "           \"I'm doing homework this evening\"]\n",
    "train_y = [\"greeting\", \n",
    "           \"greeting\", \n",
    "           \"food\", \n",
    "           \"food\", \n",
    "           \"school\", \n",
    "           \"school\"]"
   ]
  },
  {
   "cell_type": "code",
   "execution_count": 13,
   "id": "c9d9085e",
   "metadata": {},
   "outputs": [],
   "source": [
    "nlp = spacy.load(\"en_core_web_trf\")"
   ]
  },
  {
   "cell_type": "code",
   "execution_count": 22,
   "id": "c682a637",
   "metadata": {},
   "outputs": [],
   "source": [
    "nlp = spacy.load(\"en_core_web_sm\")"
   ]
  },
  {
   "cell_type": "code",
   "execution_count": 27,
   "id": "2a447783",
   "metadata": {},
   "outputs": [],
   "source": [
    "vect = CountVectorizer(binary=True)\n",
    "\n",
    "docs = [nlp(text) for text in train_x]\n",
    "train_x_word_vectors = [x.vector for x in docs]\n"
   ]
  },
  {
   "cell_type": "code",
   "execution_count": 28,
   "id": "4b89c48d",
   "metadata": {},
   "outputs": [],
   "source": [
    "cos = docs[0]"
   ]
  },
  {
   "cell_type": "code",
   "execution_count": 29,
   "id": "c017f4a0",
   "metadata": {},
   "outputs": [
    {
     "data": {
      "text/plain": [
       "SVC(kernel='linear')"
      ]
     },
     "execution_count": 29,
     "metadata": {},
     "output_type": "execute_result"
    }
   ],
   "source": [
    "model = svm.SVC(kernel='linear')\n",
    "model.fit(train_x_word_vectors, train_y)"
   ]
  },
  {
   "cell_type": "code",
   "execution_count": 30,
   "id": "f26cbe33",
   "metadata": {},
   "outputs": [
    {
     "data": {
      "text/plain": [
       "6"
      ]
     },
     "execution_count": 30,
     "metadata": {},
     "output_type": "execute_result"
    }
   ],
   "source": [
    "len(train_x_word_vectors)"
   ]
  },
  {
   "cell_type": "code",
   "execution_count": 56,
   "id": "55a018f0",
   "metadata": {},
   "outputs": [
    {
     "data": {
      "text/plain": [
       "array(['school', 'food', 'school', 'greeting', 'greeting', 'school'],\n",
       "      dtype='<U8')"
      ]
     },
     "execution_count": 56,
     "metadata": {},
     "output_type": "execute_result"
    }
   ],
   "source": [
    "test = [\"Math is boring\", \"I love sushi\", \"I need backpack\", \"What's poppin?\", \"You there?\", \"I have to study for exam\"]\n",
    "test_docs = [nlp(text) for text in test]\n",
    "test_x_word_vectors = [x.vector for x in test_docs]\n",
    "model.predict(test_x_word_vectors)"
   ]
  },
  {
   "cell_type": "code",
   "execution_count": null,
   "id": "99c58a33",
   "metadata": {},
   "outputs": [],
   "source": []
  }
 ],
 "metadata": {
  "kernelspec": {
   "display_name": "nlp_env",
   "language": "python",
   "name": "nlp_env"
  },
  "language_info": {
   "codemirror_mode": {
    "name": "ipython",
    "version": 3
   },
   "file_extension": ".py",
   "mimetype": "text/x-python",
   "name": "python",
   "nbconvert_exporter": "python",
   "pygments_lexer": "ipython3",
   "version": "3.9.5"
  }
 },
 "nbformat": 4,
 "nbformat_minor": 5
}
